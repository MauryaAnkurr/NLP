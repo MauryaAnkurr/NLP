{
 "cells": [
  {
   "cell_type": "code",
   "execution_count": 1,
   "metadata": {},
   "outputs": [
    {
     "name": "stdout",
     "output_type": "stream",
     "text": [
      "mys name is jose\n"
     ]
    }
   ],
   "source": [
    "#working with print statements.\n",
    "person ='jose'\n",
    "print(f\"mys name is {person}\")"
   ]
  },
  {
   "cell_type": "code",
   "execution_count": 5,
   "metadata": {},
   "outputs": [
    {
     "name": "stdout",
     "output_type": "stream",
     "text": [
      "today is 2019-02-24 00:00:00\n",
      "today is February 24\n",
      "today is 24\n",
      "today is 2019-02-24 00:00:00\n"
     ]
    }
   ],
   "source": [
    "from datetime import datetime\n",
    "\n",
    "today = datetime(year=2019,month=2,day=24)\n",
    "print(f\"today is {today}\")\n",
    "\n",
    "#for formatting look for strftime.org\n",
    "print(f\"today is {today:%B %d}\")\n",
    "print(f\"today is {today:%d}\")\n",
    "print(f\"today is {today}\")"
   ]
  },
  {
   "cell_type": "code",
   "execution_count": 10,
   "metadata": {},
   "outputs": [],
   "source": [
    "myfile = open(\"TextDocuments.txt\")\n",
    "\n",
    "#look at the how read function works.\n"
   ]
  },
  {
   "cell_type": "code",
   "execution_count": 12,
   "metadata": {},
   "outputs": [
    {
     "data": {
      "text/plain": [
       "'\"Job ID: 168797\\n  \\nStore Name/Number: MI-Somerset (0266)\\n  \\nAddress: 2800 W. Big Beaver Road #218, Troy, MI 48084, United States (US)\\n  \\nHourly/Salaried: Hourly (Non-Exempt)\\n  \\nFull Time/Part Time: Part Time\\n  \\nPosition Type: Regular\\n  \\nSephora Stores\\n  \\nIt\\'s all about our clients. That\\'s where you come in, to guide her on her beauty journey. It takes energy and confidence and teamwork. It takes authentic passionâ€¦not just about product, but about making a client\\'s day through teaching, inspiring, and playingâ€”together. It takes skill, which Sephora goes above and beyond to instill in our associates through unparalleled training. You bring the passion, we\\'ll teach you everything you need to know.\\n  \\nYour role at Sephora:\\n  \\nAs a Cashier, you are responsible for completing payment, exchanges, returns, and other transactions with clients. You will provide courteous, knowledgeable service at the cash wrap, and in addition, you will:\\n\\n* Complete transactions accurately and efficiently \\n* Ensure clients are informed about and enrolled in our Beauty Insider program \\n* Actively pursue additional training for yourself as well as help train new cashiers as they onboard \\n* Communicate inventory issues and zone needs to proper leadership \\n* Maintain store standards of cleanliness and organization in the cashier zone as well as assist in back of the store (stock room, lockers, kitchen, bathroom, etc.) \\n* Participate in inventory control and loss prevention programs to reduce shortage \\n* Demonstrate our Sephora values of Passion for Client Service, Innovation, Expertise, Work-Life Balance, Respect for All, Teamwork, & Initiative\\n  \\nWe think you\\'d be a great for this role if you have:\\n\\n* Previous retail or service industry experience; cash handling/cashier experience preferred \\n* Flexible availability to work during \"\"peak\"\" retail hours such as nights, weekends, and holidays (REQUIRED)\\n* Positive, friendly attitude with excellent client service and communication skills \\n  \\nYou\\'ll love working here because:\\n\\n* The people. You will be surrounded by some of the most talented, supportive, smart, and kind leaders and teams â€“ people you can be proud to work with \\n* The product. Employees enjoy a product discount and receive free product, often multiple times a month. (Think your friends and family love you now? Just wait until you work at Sephora!) \\n* The education. Sephora heavily invests in training for our store associates â€“ not just product knowledge but building a personalized career plan with you so you can achieve your professional goals \\n* The perks. Sephora offers medical benefits, competitive 401k, gift matching, and a \\'perks\\' program that includes various discounts at participating companies (hotels, rental cars, telecommunication, gyms, etc)\\n* The LVMH family. Sephora\\'s parent company, LVMH, is one of the largest luxury groups in the world, providing support to over 70 prestige brands such as Louis Vuitton, Celine, Moet Chandon, Marc Jacobs, Dior, and so many more\\n  \\nOur legal team wants you to know what\\'s required:\\n\\n* Ability to lift and carry up to 50 pounds and bend/stretch to stock shelves\\n* Handle and apply cosmetics products to clients, including fragrance, when necessary\\n* Adherence to Sephora\\'s dress code and other policies in the Sephora Employee Handbook\\n\\n\"'"
      ]
     },
     "execution_count": 12,
     "metadata": {},
     "output_type": "execute_result"
    }
   ],
   "source": [
    "myfile.read()"
   ]
  },
  {
   "cell_type": "code",
   "execution_count": 13,
   "metadata": {},
   "outputs": [
    {
     "data": {
      "text/plain": [
       "''"
      ]
     },
     "execution_count": 13,
     "metadata": {},
     "output_type": "execute_result"
    }
   ],
   "source": [
    "myfile.read()"
   ]
  },
  {
   "cell_type": "code",
   "execution_count": 16,
   "metadata": {},
   "outputs": [
    {
     "data": {
      "text/plain": [
       "'\"Job ID: 168797\\n  \\nStore Name/Number: MI-Somerset (0266)\\n  \\nAddress: 2800 W. Big Beaver Road #218, Troy, MI 48084, United States (US)\\n  \\nHourly/Salaried: Hourly (Non-Exempt)\\n  \\nFull Time/Part Time: Part Time\\n  \\nPosition Type: Regular\\n  \\nSephora Stores\\n  \\nIt\\'s all about our clients. That\\'s where you come in, to guide her on her beauty journey. It takes energy and confidence and teamwork. It takes authentic passionâ€¦not just about product, but about making a client\\'s day through teaching, inspiring, and playingâ€”together. It takes skill, which Sephora goes above and beyond to instill in our associates through unparalleled training. You bring the passion, we\\'ll teach you everything you need to know.\\n  \\nYour role at Sephora:\\n  \\nAs a Cashier, you are responsible for completing payment, exchanges, returns, and other transactions with clients. You will provide courteous, knowledgeable service at the cash wrap, and in addition, you will:\\n\\n* Complete transactions accurately and efficiently \\n* Ensure clients are informed about and enrolled in our Beauty Insider program \\n* Actively pursue additional training for yourself as well as help train new cashiers as they onboard \\n* Communicate inventory issues and zone needs to proper leadership \\n* Maintain store standards of cleanliness and organization in the cashier zone as well as assist in back of the store (stock room, lockers, kitchen, bathroom, etc.) \\n* Participate in inventory control and loss prevention programs to reduce shortage \\n* Demonstrate our Sephora values of Passion for Client Service, Innovation, Expertise, Work-Life Balance, Respect for All, Teamwork, & Initiative\\n  \\nWe think you\\'d be a great for this role if you have:\\n\\n* Previous retail or service industry experience; cash handling/cashier experience preferred \\n* Flexible availability to work during \"\"peak\"\" retail hours such as nights, weekends, and holidays (REQUIRED)\\n* Positive, friendly attitude with excellent client service and communication skills \\n  \\nYou\\'ll love working here because:\\n\\n* The people. You will be surrounded by some of the most talented, supportive, smart, and kind leaders and teams â€“ people you can be proud to work with \\n* The product. Employees enjoy a product discount and receive free product, often multiple times a month. (Think your friends and family love you now? Just wait until you work at Sephora!) \\n* The education. Sephora heavily invests in training for our store associates â€“ not just product knowledge but building a personalized career plan with you so you can achieve your professional goals \\n* The perks. Sephora offers medical benefits, competitive 401k, gift matching, and a \\'perks\\' program that includes various discounts at participating companies (hotels, rental cars, telecommunication, gyms, etc)\\n* The LVMH family. Sephora\\'s parent company, LVMH, is one of the largest luxury groups in the world, providing support to over 70 prestige brands such as Louis Vuitton, Celine, Moet Chandon, Marc Jacobs, Dior, and so many more\\n  \\nOur legal team wants you to know what\\'s required:\\n\\n* Ability to lift and carry up to 50 pounds and bend/stretch to stock shelves\\n* Handle and apply cosmetics products to clients, including fragrance, when necessary\\n* Adherence to Sephora\\'s dress code and other policies in the Sephora Employee Handbook\\n\\n\"'"
      ]
     },
     "execution_count": 16,
     "metadata": {},
     "output_type": "execute_result"
    }
   ],
   "source": [
    "myfile.seek(0)\n",
    "myfile.read()"
   ]
  },
  {
   "cell_type": "code",
   "execution_count": 17,
   "metadata": {},
   "outputs": [],
   "source": [
    "myfile.close()"
   ]
  },
  {
   "cell_type": "code",
   "execution_count": 24,
   "metadata": {},
   "outputs": [],
   "source": [
    "myfile = open(\"TextDocuments.txt\")"
   ]
  },
  {
   "cell_type": "code",
   "execution_count": 26,
   "metadata": {},
   "outputs": [],
   "source": [
    "alllines = myfile.readlines()\n",
    "\n",
    "for line in alllines:\n",
    "    print(line)\n",
    "\n",
    "myfile.close()"
   ]
  },
  {
   "cell_type": "code",
   "execution_count": null,
   "metadata": {},
   "outputs": [],
   "source": [
    "with open('TextDocuments.txt','r') as context_mean\n",
    "    myvariable = myfile.readlines()\n",
    "    "
   ]
  }
 ],
 "metadata": {
  "kernelspec": {
   "display_name": "Python 3",
   "language": "python",
   "name": "python3"
  },
  "language_info": {
   "codemirror_mode": {
    "name": "ipython",
    "version": 3
   },
   "file_extension": ".py",
   "mimetype": "text/x-python",
   "name": "python",
   "nbconvert_exporter": "python",
   "pygments_lexer": "ipython3",
   "version": "3.6.8"
  }
 },
 "nbformat": 4,
 "nbformat_minor": 2
}
